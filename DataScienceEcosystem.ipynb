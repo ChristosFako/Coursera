{
 "cells": [
  {
   "cell_type": "markdown",
   "id": "b369e9b0-3cec-4d8b-8ba3-375bf8c8e99b",
   "metadata": {
    "tags": []
   },
   "source": [
    "# Data Science Tools and Ecosystem"
   ]
  },
  {
   "cell_type": "markdown",
   "id": "97302d4f-1eaf-43b1-8c5b-83d2ad65ffee",
   "metadata": {},
   "source": [
    "In this notebook, Data Science Tools and Ecosystem are summarized."
   ]
  },
  {
   "cell_type": "markdown",
   "id": "2a8cdd0d-899d-4fc2-9b99-73770b718690",
   "metadata": {
    "tags": []
   },
   "source": [
    "**Objectives:**\n",
    "\n",
    "- Understand the importance of data science.\n",
    "- List popular programming languages used in data science.\n",
    "- Explore various data visualization techniques.\n",
    "- Learn about data manipulation libraries.\n",
    "- Discuss best practices in data analysis."
   ]
  },
  {
   "cell_type": "markdown",
   "id": "1bc1fe87-12c4-4dfe-b651-e1bc3038c439",
   "metadata": {},
   "source": [
    "Some of the popular languages that Data Scientists use are:\n",
    "    \n",
    "    1. R\n",
    "    2. Python\n",
    "    3. Julia"
   ]
  },
  {
   "cell_type": "markdown",
   "id": "ba45787e-9963-472d-b007-1b3423fff94f",
   "metadata": {},
   "source": [
    "Some of the commonly used libraries used by Data Scientists include:\n",
    "    \n",
    "    1. tensorflow\n",
    "    2. Plotly\n",
    "    3. Panda\n"
   ]
  },
  {
   "cell_type": "markdown",
   "id": "7d8025f6-edc6-45d1-b6b4-1a59affcc13b",
   "metadata": {},
   "source": [
    "| Country Name | \n",
    "| -------------| \n",
    "| JupyterLab |\n",
    "| Rstudio |\n",
    "| Apache Zeppelin | "
   ]
  },
  {
   "cell_type": "markdown",
   "id": "d4ac8676-c314-40ca-b557-351f445eb567",
   "metadata": {
    "tags": []
   },
   "source": [
    "### Below are a few examples of evaluating arithmetic expressions in Python:\n",
    "\n",
    "\n"
   ]
  },
  {
   "cell_type": "code",
   "execution_count": 13,
   "id": "42af2ef2-9f56-4772-bc01-8916a38c5cfe",
   "metadata": {
    "tags": []
   },
   "outputs": [
    {
     "data": {
      "text/plain": [
       "17"
      ]
     },
     "execution_count": 13,
     "metadata": {},
     "output_type": "execute_result"
    }
   ],
   "source": [
    "#This a simple arithmetic expression to mutiply then add integers\n",
    "(3*4)+5"
   ]
  },
  {
   "cell_type": "code",
   "execution_count": 14,
   "id": "60e4206c-23a3-471b-82fe-d9adf88d79c5",
   "metadata": {
    "tags": []
   },
   "outputs": [
    {
     "data": {
      "text/plain": [
       "3.3333333333333335"
      ]
     },
     "execution_count": 14,
     "metadata": {},
     "output_type": "execute_result"
    }
   ],
   "source": [
    " # This will convert 200 minutes to hours by diving by 60\n",
    "\n",
    "minutes = 200\n",
    "hours = minutes / 60\n",
    "hours"
   ]
  },
  {
   "cell_type": "markdown",
   "id": "6e97af4d-fbb7-4854-95d9-872d083a1662",
   "metadata": {},
   "source": [
    "## Author\n",
    "Christos Fakontis"
   ]
  },
  {
   "cell_type": "code",
   "execution_count": null,
   "id": "9b0e896a-6e6f-4e9e-b666-7861bdae3d6a",
   "metadata": {},
   "outputs": [],
   "source": []
  }
 ],
 "metadata": {
  "kernelspec": {
   "display_name": "Python",
   "language": "python",
   "name": "conda-env-python-py"
  },
  "language_info": {
   "codemirror_mode": {
    "name": "ipython",
    "version": 3
   },
   "file_extension": ".py",
   "mimetype": "text/x-python",
   "name": "python",
   "nbconvert_exporter": "python",
   "pygments_lexer": "ipython3",
   "version": "3.7.12"
  }
 },
 "nbformat": 4,
 "nbformat_minor": 5
}
